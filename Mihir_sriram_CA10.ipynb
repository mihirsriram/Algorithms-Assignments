{
 "cells": [
  {
   "cell_type": "code",
   "execution_count": 1,
   "metadata": {},
   "outputs": [],
   "source": [
    "def compute_repetition_factor(pattern):\n",
    "    m = len(pattern)\n",
    "    if m == 0:\n",
    "        return []\n",
    "    if m == 1:\n",
    "        return [1]\n",
    "    chars = list(pattern)\n",
    "    # Compute the prefix function π(i)\n",
    "    pi = [0] * m\n",
    "    k = 0\n",
    "    for i in range(1, m):\n",
    "        while k > 0 and chars[k] != chars[i]:\n",
    "            k = pi[k-1]\n",
    "        if chars[k] == chars[i]:\n",
    "            k = k + 1\n",
    "        pi[i] = k\n",
    "    # Compute the repetition factor for each character i\n",
    "    rep_factors = []\n",
    "    for i in range(m):\n",
    "        # Length of the longest proper prefix of pattern[:i+1] that is also a suffix of a prefix of pattern[:i+1]\n",
    "        len_prefix = pi[i]\n",
    "        # Length of the repeating substring\n",
    "        len_repeated = i + 1 - len_prefix\n",
    "        if len_repeated == 0 or (i+1) % len_repeated != 0:\n",
    "            # Pattern[:i+1] is not a repeated string\n",
    "            rep_factors.append(1)\n",
    "        else:\n",
    "            # Pattern[:i+1] is a repeated string with repetition factor (i+1) // len_repeated\n",
    "            rep_factors.append((i+1) // len_repeated)\n",
    "    return rep_factors\n"
   ]
  },
  {
   "cell_type": "markdown",
   "metadata": {},
   "source": [
    "# Question 2"
   ]
  },
  {
   "cell_type": "code",
   "execution_count": 2,
   "metadata": {},
   "outputs": [
    {
     "name": "stdout",
     "output_type": "stream",
     "text": [
      "ρ(P1) = 1: a\n",
      "ρ(P2) = 1: ab\n",
      "ρ(P3) = 1: aba\n",
      "ρ(P4) = 2: ab\n",
      "ρ(P5) = 1: ababa\n",
      "ρ(P6) = 3: ab\n",
      "ρ(P7) = 1: abababa\n"
     ]
    }
   ],
   "source": [
    "P = \"abababa\"\n",
    "rep_factors = compute_repetition_factor(P)\n",
    "for i, rf in enumerate(rep_factors):\n",
    "    print(f\"ρ(P{i+1}) = {rf}: {P[:i+1][:len(P[:i+1])//rf]}\")\n"
   ]
  },
  {
   "cell_type": "code",
   "execution_count": 3,
   "metadata": {},
   "outputs": [
    {
     "name": "stdout",
     "output_type": "stream",
     "text": [
      "Maximum repetitor values for 100 random patterns of length 1000:\n",
      "[1, 2, 1, 1, 1, 1, 1, 1, 1, 1, 1, 1, 1, 1, 1, 1, 1, 1, 1, 1, 1, 1, 1, 1, 1, 1, 1, 1, 1, 1, 1, 1, 1, 1, 1, 1, 1, 1, 2, 2, 1, 1, 1, 1, 1, 1, 1, 2, 1, 1, 1, 1, 1, 1, 1, 1, 1, 1, 1, 1, 1, 1, 1, 1, 1, 1, 1, 1, 1, 1, 1, 1, 1, 1, 1, 1, 1, 1, 1, 1, 1, 1, 1, 1, 1, 1, 1, 1, 1, 1, 1, 1, 1, 1, 1, 1, 1, 1, 1, 1]\n",
      "Maximum repetitor value: 2\n",
      "Average time per pattern: 0.007232446670532227 seconds\n"
     ]
    }
   ],
   "source": [
    "import random\n",
    "import time\n",
    "\n",
    "def generate_random_pattern(m):\n",
    "    return ''.join(chr(random.randint(97, 122)) for _ in range(m))\n",
    "\n",
    "def run_experiment(num_trials, pattern_length):\n",
    "    max_repetition_factors = []\n",
    "    for i in range(num_trials):\n",
    "        pattern = generate_random_pattern(pattern_length)\n",
    "        repetition_factors = compute_repetition_factor(pattern)\n",
    "        max_repetition_factors.append(max(repetition_factors))\n",
    "    return max_repetition_factors\n",
    "\n",
    "start_time = time.time()\n",
    "num_trials = 100\n",
    "pattern_length = 1000\n",
    "max_repetition_factors = run_experiment(num_trials, pattern_length)\n",
    "end_time = time.time()\n",
    "\n",
    "print(f\"Maximum repetitor values for {num_trials} random patterns of length {pattern_length}:\")\n",
    "print(max_repetition_factors)\n",
    "print(\"Maximum repetitor value:\",max(max_repetition_factors))\n",
    "print(f\"Average time per pattern: {(end_time - start_time) / num_trials} seconds\")\n",
    "max_rf = max(max_repetition_factors)\n"
   ]
  },
  {
   "cell_type": "markdown",
   "metadata": {},
   "source": [
    "Conclusion: After running the experiment for a 100 trials of random patterns of the size 1000 characters, I found that the maximum repetitor factor ρ*(P) is usually very small, ranging from 1 to 3(or)4. This suggests that most random strings of length 1000 have very little repetition."
   ]
  },
  {
   "cell_type": "markdown",
   "metadata": {},
   "source": [
    "# Question 3\n"
   ]
  },
  {
   "cell_type": "markdown",
   "metadata": {},
   "source": [
    "The time complexity of the compute_repetition_factor function, which calculates the repetition factors of a given pattern, is O(m), where m is the length of the pattern. The function consists of two parts, each with a time complexity of O(m). Therefore, the total time complexity of the function is O(m). However, the section of code that prints the repetition factors and repeated substrings has a time complexity of O(m^2) due to nested loops. As a result, the overall time complexity of the code, including the printing section, is O(m^2)."
   ]
  },
  {
   "cell_type": "markdown",
   "metadata": {},
   "source": [
    "# Question 4"
   ]
  },
  {
   "cell_type": "markdown",
   "metadata": {},
   "source": [
    "If we randomly select a binary string of length m, then the maximum repetitor factor ρ(P) is likely to be constant. By using a union bound argument, we can calculate an upper limit on the expected value of ρ(P), which is e^(-2^(-k)m) for any k value. By summing over all possible k values, we can determine that the upper bound of the expected value of ρ(P) is Σk e^(-2^(-k)m), which is a constant regardless of m. Thus, the expected value of ρ*(P) is also a constant."
   ]
  }
 ],
 "metadata": {
  "kernelspec": {
   "display_name": "Python 3",
   "language": "python",
   "name": "python3"
  },
  "language_info": {
   "codemirror_mode": {
    "name": "ipython",
    "version": 3
   },
   "file_extension": ".py",
   "mimetype": "text/x-python",
   "name": "python",
   "nbconvert_exporter": "python",
   "pygments_lexer": "ipython3",
   "version": "3.7.6"
  }
 },
 "nbformat": 4,
 "nbformat_minor": 4
}
