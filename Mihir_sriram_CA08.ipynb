{
 "cells": [
  {
   "cell_type": "markdown",
   "metadata": {},
   "source": [
    "# Linear Programming\n",
    "\n",
    "The package linprog() in scipy solves only minimization (not maximization) problems and doesn’t allow inequality constraints with the greater than or equal to sign (≥). To work around these issues, you need to modify your problem before starting optimization into the following form:\n",
    "\n",
    "$$\n",
    "\\begin{array}{ll}\n",
    "\\text{minimize} & \\textbf{c}\\cdot \\textbf{x}  \\\\\n",
    "\\text{subject to} & \\textbf{A} \\cdot \\textbf{x} \\leq \\textbf{b} \n",
    "\\end{array}\n",
    "$$\n",
    "\n",
    "Example: \n",
    "$$\n",
    "\\begin{array}{lrrrl}\n",
    "\\text{maximize} & x_1 & + &x_2 & \\\\\n",
    "\\text{subject to} & 4x_1 & - &x_2 &\\leq 8 \\\\\n",
    "& 2x_1 &- &x_2 &\\leq 10 \\\\\n",
    "& 5x_1 & - &2x_2 &\\geq -2 \\\\\n",
    "&&& x_1 &\\geq 0 \\\\\n",
    "&&& x_2 &\\geq 0\n",
    "\\end{array}\n",
    "$$\n",
    "\n",
    "Maximizing $f(x_1,x_2, \\ldots, x_n)$ with a set of constraints is equivalent to minimizing $-f(x_1,x_2,\\ldots,x_n)$.\n",
    "Converting the above LP problem to the standard form, we get\n",
    "$$\n",
    "\\begin{array}{lrrrl}\n",
    "\\text{minimize} & -x_1 & - &x_2 & \\\\\n",
    "\\text{subject to} & 4x_1 & - &x_2 &\\leq 8 \\\\\n",
    "& 2x_1 &- &x_2 &\\leq 10 \\\\\n",
    "& -5x_1 &+ &2x_2 &\\leq 2 \\\\\n",
    "&&& -x_1 &\\leq 0 \\\\\n",
    "&&& -x_2 &\\leq 0\n",
    "\\end{array}\n",
    "$$\n",
    "That is,\n",
    "$$\n",
    "\\textbf{A}=\n",
    "  \\begin{bmatrix}\n",
    "    4 & -1 \\\\\n",
    "    2 & 1 \\\\\n",
    "    -5 & 2 \\\\\n",
    "    -1 & 0 \\\\\n",
    "    0 & -1 \\\\\n",
    "  \\end{bmatrix}\n",
    "$$\n",
    "\\\n",
    "$$\n",
    "\\textbf{b} = \n",
    "\\begin{bmatrix}\n",
    "8 \\\\ 10 \\\\ 2 \\\\ 0 \\\\ 0\n",
    "\\end{bmatrix}\n",
    "$$\n",
    "\\\n",
    "$$\n",
    "\\textbf{c} =\n",
    "\\begin{bmatrix}\n",
    "-1 \\\\ -1\n",
    "\\end{bmatrix}\n",
    "$$\n",
    "\\\n",
    "$$\\textbf{x} =\n",
    "\\begin{bmatrix}\n",
    "x_1 \\\\ x_2\n",
    "\\end{bmatrix}\n",
    "$$"
   ]
  },
  {
   "cell_type": "code",
   "execution_count": 1,
   "metadata": {
    "ExecuteTime": {
     "end_time": "2023-03-16T18:56:26.994682Z",
     "start_time": "2023-03-16T18:56:26.956858Z"
    }
   },
   "outputs": [
    {
     "name": "stderr",
     "output_type": "stream",
     "text": [
      "C:\\Users\\91817\\anaconda3\\lib\\site-packages\\numpy\\core\\fromnumeric.py:86: VisibleDeprecationWarning: Creating an ndarray from ragged nested sequences (which is a list-or-tuple of lists-or-tuples-or ndarrays with different lengths or shapes) is deprecated. If you meant to do this, you must specify 'dtype=object' when creating the ndarray.\n",
      "  return ufunc.reduce(obj, axis, dtype, out, **passkwargs)\n"
     ]
    }
   ],
   "source": [
    "# Import required libraries\n",
    "import numpy as np\n",
    "from scipy.optimize import linprog\n",
    "\n",
    "# Set the inequality constraints matrix\n",
    "# Note: the inequality constraints must be in the form of <=\n",
    "A = np.array([[4, -1], [2, 1], [-5, 2], [-1, 0], [0, -1]])\n",
    "\n",
    "# Set the inequality constraints vector\n",
    "b = np.array([8, 10, 2, 0, 0])\n",
    "\n",
    "# Set the coefficients of the linear objective function vector\n",
    "c = np.array([-1, -1])\n",
    "\n",
    "# Solve linear programming problem\n",
    "sol = linprog(c, A_ub=A, b_ub=b)"
   ]
  },
  {
   "cell_type": "code",
   "execution_count": 2,
   "metadata": {
    "ExecuteTime": {
     "end_time": "2023-03-16T18:57:14.645711Z",
     "start_time": "2023-03-16T18:57:14.638970Z"
    }
   },
   "outputs": [
    {
     "name": "stdout",
     "output_type": "stream",
     "text": [
      "Optimal value: 8.0 \n",
      "x values: [2.0, 6.0] \n",
      "Number of iterations in simplex: 4 \n",
      "Status: Optimization terminated successfully.\n"
     ]
    }
   ],
   "source": [
    "# Print results\n",
    "print('Optimal value:', -round(sol.fun, ndigits=2),\n",
    "      '\\nx values:', [round(x, ndigits=2) for x in sol.x],\n",
    "      '\\nNumber of iterations in simplex:', sol.nit,\n",
    "      '\\nStatus:', sol.message)"
   ]
  },
  {
   "cell_type": "markdown",
   "metadata": {},
   "source": [
    "# More on coversions\n",
    "\n",
    "## Equalities\n",
    "\n",
    "An equality $\\textbf{a}\\cdot \\textbf{x} = b$ can be replaced with the following two inequalities:\n",
    "\n",
    "\\begin{align*}\n",
    "\\textbf{a}\\cdot \\textbf{x} &\\leq b\\\\\n",
    "-\\textbf{a}\\cdot \\textbf{x} &\\leq -b\n",
    "\\end{align*}\n",
    "\n",
    "For example, $2x_1 + 4x_2 - 3x_3 = 5$ is equivalent to the following two inequalities:\n",
    "\n",
    "\\begin{align*}\n",
    "2x_1 + 4x_2 - 3x_3 &\\leq 5 \\\\\n",
    "-2x_1 - 4x_2 + 3x_3 &\\leq -5 \n",
    "\\end{align*}\n",
    "\n",
    "## Free variables\n",
    "\n",
    "Suppose a variable $x$ could be either non-negative or negative. Such a variable is referred to as a free variable. To take of this, let $x = x' - x''$ for $x' \\leq 0$ and $x''\\leq 0$, and replace every occurrence of $x$ in the objective function and the constrain matrix with $x'-x''$. To see the equivalence, it suffices to note that the difference of two non-positive variables could be either non-negative or negative.\n",
    "\n",
    "For example, consider the following LP:\n",
    "\\begin{equation*}\n",
    "\\begin{array}{lrrrrrlr}\n",
    "\\text{minimize} & 2x &-& 3y &+& 5z &&\\\\\n",
    "\\text{subject to} & 7x &-& 5y &+& 6z &\\leq& 10 \\\\\n",
    "&-2x &+& 8y &-&4z &\\leq& 3 \\\\\n",
    "&9x &-& 2y &-& 5z &\\leq& 4 \\\\\n",
    "&&&&&-y &\\leq& 0 \\\\\n",
    "&&&&&-z &\\leq& 0\n",
    "\\end{array}\n",
    "\\end{equation*}\n",
    " \n",
    "Here the variable $x$ is a free variable. Replacing $x$ with $x'-x''$ we get the following equivalent LP:\n",
    "\n",
    "\\begin{equation*}\n",
    "\\begin{array}{lrrrrrrrlr}\n",
    "\\text{minimize} & 2x' &-& 2x'' &-& 3y &+& 5z &&\\\\\n",
    "\\text{subject to} & 7x' &-& 7x'' &-& 5y &+& 6z &\\leq& 10 \\\\\n",
    "&-2x' &+& 2x'' &+& 8y &-&4z &\\leq& 3 \\\\\n",
    "&9x' &-& 9x'' &-& 2y &-& 5z &\\leq& 4 \\\\\n",
    "&&&&&&&x' &\\leq& 0 \\\\\n",
    "&&&&&&&x'' &\\leq& 0 \\\\\n",
    "&&&&&&&-y &\\leq& 0 \\\\\n",
    "&&&&&&&-z &\\leq& 0\n",
    "\\end{array}\n",
    "\\end{equation*}"
   ]
  },
  {
   "cell_type": "markdown",
   "metadata": {},
   "source": [
    "# An example from the slide"
   ]
  },
  {
   "cell_type": "code",
   "execution_count": 3,
   "metadata": {
    "ExecuteTime": {
     "end_time": "2023-03-20T17:33:01.629792Z",
     "start_time": "2023-03-20T17:32:57.473363Z"
    }
   },
   "outputs": [],
   "source": [
    "# Import required libraries\n",
    "import numpy as np\n",
    "from scipy.optimize import linprog\n",
    "\n",
    "A = np.array([[1, 1, 3], [2, 2, 5], [4, 1, 2], [-1, 0, 0], [0, -1, 0], [0, 0, -1]])\n",
    "\n",
    "# Set the inequality constraints vector\n",
    "b = np.array([30, 24, 36, 0, 0, 0])\n",
    "\n",
    "# Set the coefficients of the linear objective function vector\n",
    "c = np.array([-3, -1, -2])\n",
    "\n",
    "# Solve linear programming problem\n",
    "sol = linprog(c, A_ub=A, b_ub=b)"
   ]
  },
  {
   "cell_type": "code",
   "execution_count": 4,
   "metadata": {
    "ExecuteTime": {
     "end_time": "2023-03-20T17:33:03.264045Z",
     "start_time": "2023-03-20T17:33:03.255838Z"
    }
   },
   "outputs": [
    {
     "name": "stdout",
     "output_type": "stream",
     "text": [
      "Optimal value: 28.0 \n",
      "x values: [8.0, 4.0, 0.0] \n",
      "Number of iterations in simplex: 6 \n",
      "Status: Optimization terminated successfully.\n"
     ]
    }
   ],
   "source": [
    "# Print results\n",
    "print('Optimal value:', -round(sol.fun, ndigits=2),\n",
    "      '\\nx values:', [round(x, ndigits=2) for x in sol.x],\n",
    "      '\\nNumber of iterations in simplex:', sol.nit,\n",
    "      '\\nStatus:', sol.message)"
   ]
  },
  {
   "cell_type": "code",
   "execution_count": 5,
   "metadata": {},
   "outputs": [],
   "source": [
    "# Import required libraries\n",
    "import numpy as np\n",
    "from scipy.optimize import linprog\n",
    "\n",
    "# Set the inequality constraints matrix\n",
    "# Note: the inequality constraints must be in the form of <=\n",
    "A = np.array([[4, -1], [2, 1], [-5, 2], [-1, 0], [0, -1]])\n",
    "\n",
    "# Set the inequality constraints vector\n",
    "b = np.array([8, 10, 2, 0, 0])\n",
    "\n",
    "# Set the coefficients of the linear objective function vector\n",
    "c = np.array([-1, -1])\n",
    "\n",
    "# Solve linear programming problem\n",
    "sol = linprog(c, A_ub=A, b_ub=b)"
   ]
  },
  {
   "cell_type": "code",
   "execution_count": 6,
   "metadata": {},
   "outputs": [
    {
     "name": "stdout",
     "output_type": "stream",
     "text": [
      "Optimal value: 8.0 \n",
      "x values: [2.0, 6.0] \n",
      "Number of iterations in simplex: 4 \n",
      "Status: Optimization terminated successfully.\n"
     ]
    }
   ],
   "source": [
    "# Print results\n",
    "print('Optimal value:', -round(sol.fun, ndigits=2),\n",
    "      '\\nx values:', [round(x, ndigits=2) for x in sol.x],\n",
    "      '\\nNumber of iterations in simplex:', sol.nit,\n",
    "      '\\nStatus:', sol.message)\n"
   ]
  },
  {
   "cell_type": "code",
   "execution_count": 7,
   "metadata": {},
   "outputs": [
    {
     "name": "stdout",
     "output_type": "stream",
     "text": [
      "     con: array([-4.50389503e-10, -4.50386617e-10,  9.00773678e-10, -1.99840144e-15])\n",
      "     fun: -4.999999997267144\n",
      " message: 'Optimization terminated successfully.'\n",
      "     nit: 5\n",
      "   slack: array([ 2.00000000e+00,  1.92359417e-09, -1.22243105e-10,  4.81123141e-10,\n",
      "        6.96208571e-01,  3.03791430e-01,  4.21934063e-01,  2.74274508e-01,\n",
      "        7.25725495e-01])\n",
      "  status: 0\n",
      " success: True\n",
      "       x: array([2.        , 3.        , 1.        , 1.        , 2.30379143,\n",
      "       0.69620857, 2.57806594, 0.72572549, 4.27427451])\n"
     ]
    }
   ],
   "source": [
    "import numpy as np\n",
    "from scipy.optimize import linprog\n",
    "edges = 9\n",
    "# 0 1 2 3 4 5 6 7 8\n",
    "conservation = np.array([[ 0,-1, 0, 0, 1, 1, 0, 0, 0], # B\n",
    "[-1, 0, 1, 1, 0, 0, 0, 0, 0], # C\n",
    "[ 0, 0, 0,-1, 0,-1,-1, 0, 1], # D\n",
    "[ 0, 0,-1, 0,-1, 0, 1, 1, 0]]) # E\n",
    "# 0 1 2 3 4 5 6 7 8\n",
    "sinks = np.array([0, 0, 0, 0, 0, 0, 0, 1, 1])\n",
    "# 0 1 2 3 4 5 6 7 8\n",
    "capacity = np.array([4, 3, 1, 1, 3, 1, 3, 1, 5])\n",
    "res = linprog(-sinks,\n",
    "A_eq=conservation,\n",
    "b_eq=np.zeros(conservation.shape[0]),\n",
    "A_ub=np.eye(edges),\n",
    "b_ub=capacity)\n",
    "print(res)\n"
   ]
  },
  {
   "cell_type": "code",
   "execution_count": 8,
   "metadata": {},
   "outputs": [],
   "source": [
    "# Python program for implementation of Edmonds-Karp algorithm\n",
    "from collections import defaultdict\n",
    "\n",
    "# This class represents a directed graph\n",
    "# using adjacency matrix representation\n",
    "class Graph:\n",
    "\n",
    "    def __init__(self, graph):\n",
    "        self.graph = graph # residual graph\n",
    "        self.row = len(graph)\n",
    "\n",
    "    '''\n",
    "    Return true if there is a path from source 's' to sink 't' in\n",
    "    a residual graph. Fill parent[] to store the path \n",
    "    '''\n",
    "\n",
    "    def BFS(self, s, t, parent):\n",
    "\n",
    "        # Mark all the vertices as not visited\n",
    "        visited = [False] * (self.row)\n",
    "\n",
    "        # Create a queue for BFS\n",
    "        queue = []\n",
    "\n",
    "        # Mark the source node as visited and enqueue it\n",
    "        queue.append(s)\n",
    "        visited[s] = True\n",
    "\n",
    "        # Standard BFS Loop\n",
    "        while queue:\n",
    "            # Dequeue a vertex from queue and print it\n",
    "            u = queue.pop(0)\n",
    "\n",
    "            # Get all adjacent vertices of the dequeued vertex u. If a adjacent has not \n",
    "            # been visited, then mark it visited and enqueue it\n",
    "            for ind, val in enumerate(self.graph[u]):\n",
    "                if visited[ind] == False and val > 0:\n",
    "                    # If we find a connection to the sink node,\n",
    "                    # then there is no point in BFS anymore\n",
    "                    # We just have to set its parent and can return true\n",
    "                    queue.append(ind)\n",
    "                    visited[ind] = True\n",
    "                    parent[ind] = u\n",
    "                    if ind == t:\n",
    "                        return True\n",
    "\n",
    "        # We didn't reach sink in BFS starting from source; return false\n",
    "        return False\n",
    "    \n",
    "    # Returns the maximum flow from s to t in the given graph\n",
    "    def Edmonds_Karp(self, source, sink):\n",
    "\n",
    "        # This array is filled by BFS and to store path\n",
    "        parent = [-1] * (self.row)\n",
    "\n",
    "        max_flow = 0 # There is no flow initially\n",
    "\n",
    "        # Augment the flow while there is path from source to sink\n",
    "        while self.BFS(source, sink, parent) :\n",
    "\n",
    "            # Find minimum residual capacity of the edges along the path filled by BFS. \n",
    "            # Or we can say find the maximum flow through the path found.\n",
    "            path_flow = float(\"Inf\")\n",
    "            s = sink\n",
    "            while(s != source):\n",
    "                path_flow = min (path_flow, self.graph[parent[s]][s])\n",
    "                s = parent[s]\n",
    "\n",
    "            # Add path flow to overall flow\n",
    "            max_flow += path_flow\n",
    "\n",
    "            # update residual capacities of the edges and reverse edges along the path\n",
    "            v = sink\n",
    "            while(v != source):\n",
    "                u = parent[v]\n",
    "                self.graph[u][v] -= path_flow\n",
    "                self.graph[v][u] += path_flow\n",
    "                v = parent[v]\n",
    "\n",
    "        return max_flow\n",
    "    \n",
    "# This code is contributed by Neelam Yadav '''"
   ]
  },
  {
   "cell_type": "code",
   "execution_count": 9,
   "metadata": {},
   "outputs": [
    {
     "name": "stdout",
     "output_type": "stream",
     "text": [
      "The maximum flow for Edmonds Karp algorithm  13 \n",
      "The maximum flow for Edmonds Karp algorithm  17 \n",
      "The maximum flow for Edmonds Karp algorithm  15 \n",
      "The maximum flow for Edmonds Karp algorithm  22 \n",
      "The maximum flow for Edmonds Karp algorithm  17 \n",
      "The maximum flow for Edmonds Karp algorithm  26 \n",
      "The maximum flow for Edmonds Karp algorithm  27 \n",
      "The maximum flow for Edmonds Karp algorithm  32 \n",
      "The maximum flow for Edmonds Karp algorithm  36 \n",
      "The maximum flow for Edmonds Karp algorithm  32 \n"
     ]
    },
    {
     "data": {
      "image/png": "[encoded data removed]",
      "text/plain": [
       "<Figure size 432x288 with 1 Axes>"
      ]
     },
     "metadata": {
      "needs_background": "light"
     },
     "output_type": "display_data"
    }
   ],
   "source": [
    "import random\n",
    "import math\n",
    "import time\n",
    "import matplotlib.pyplot as plt\n",
    "\n",
    "\n",
    "\n",
    "def generate_flow_network(n):\n",
    "    # create empty graph\n",
    "    graph = [[0] * (n+2) for i in range(n+2)]\n",
    "    \n",
    "    # set capacities for source and sink nodes\n",
    "    i = 0\n",
    "    while i < n:\n",
    "        graph[0][i+1] =random.randint(0, math.floor(math.sqrt(n)))\n",
    "        graph[i+1][n+1] =random.randint(0, math.floor(math.sqrt(n)))\n",
    "        i += 1\n",
    "    \n",
    "    # set capacities for intermediate nodes\n",
    "    i = 0\n",
    "    while i < n:\n",
    "        j = 0\n",
    "        while j < n:\n",
    "            if i != j:\n",
    "                graph[i+1][j+1] = random.randint(0, math.floor(math.sqrt(n)))\n",
    "            j += 1\n",
    "        i += 1\n",
    "    \n",
    "    return graph\n",
    "\n",
    "\n",
    "x1 = [10,11,12,13,14,15,16,17,18,19]\n",
    "\n",
    "ye = []\n",
    "\n",
    "for n in range(10, 20):\n",
    "    \n",
    "        \n",
    "    K = generate_flow_network(n)\n",
    "    m = Graph(K)\n",
    "    source = 0; sink = n\n",
    "    \n",
    "    start_time = time.time()\n",
    "    print (\"The maximum flow for Edmonds Karp algorithm  %d \" % m.Edmonds_Karp(source, sink))  \n",
    "    end_time = time.time()\n",
    "    ye.append(end_time - start_time)\n",
    "plt.plot(x1, ye, color='green',label=\"Edmonds_Karp\")\n",
    "plt.xlabel(\"n\")\n",
    "plt.ylabel(\"Running time\")\n",
    "plt.legend()\n",
    "plt.show()\n",
    "    \n"
   ]
  },
  {
   "cell_type": "code",
   "execution_count": 10,
   "metadata": {},
   "outputs": [
    {
     "name": "stdout",
     "output_type": "stream",
     "text": [
      "n = 10, : max_flow Linear Programming = 20.999999998650228\n",
      "n = 11, : max_flow Linear Programming = 23.999999988191554\n",
      "n = 12, : max_flow Linear Programming = 23.999999998362377\n",
      "n = 13, : max_flow Linear Programming = 23.999999998421494\n",
      "n = 14, : max_flow Linear Programming = 29.999999998274227\n",
      "n = 15, : max_flow Linear Programming = 28.99999999825333\n",
      "n = 16, : max_flow Linear Programming = 33.99999999760015\n",
      "n = 17, : max_flow Linear Programming = 43.999999999741604\n",
      "n = 18, : max_flow Linear Programming = 44.999999997571315\n",
      "n = 19, : max_flow Linear Programming = 41.99999999958612\n"
     ]
    },
    {
     "data": {
      "image/png": "[encoded data removed]",
      "text/plain": [
       "<Figure size 432x288 with 1 Axes>"
      ]
     },
     "metadata": {
      "needs_background": "light"
     },
     "output_type": "display_data"
    },
    {
     "data": {
      "image/png": "[encoded data removed]",
      "text/plain": [
       "<Figure size 432x288 with 2 Axes>"
      ]
     },
     "metadata": {
      "needs_background": "light"
     },
     "output_type": "display_data"
    }
   ],
   "source": [
    "import random\n",
    "import math\n",
    "import networkx as nx\n",
    "import cvxpy as cp\n",
    "\n",
    "def random_capacities(n):\n",
    "    return [random.randint(1, math.floor(math.sqrt(n))) for _ in range(n+2)]\n",
    "\n",
    "def generate_flow(n):\n",
    "    G = nx.DiGraph()\n",
    "    for i in range(n+2):\n",
    "        capacities = random_capacities(n)\n",
    "        for j, capacity in enumerate(capacities):\n",
    "            \n",
    "            if capacity > 0:\n",
    "                G.add_edge(i, j, capacity=capacity)\n",
    "                \n",
    "                \n",
    "    return G\n",
    "\n",
    "def max_flow_lp(G):\n",
    "    n = len(G.nodes)\n",
    "    capacities = nx.get_edge_attributes(G, 'capacity')\n",
    "    flow = cp.Variable((n, n), nonneg=True)\n",
    "    objective = cp.Maximize(cp.sum(flow[0, :]) - cp.sum(flow[:, n-1]))\n",
    "    constraints = [\n",
    "        flow[i, j] <= capacities[(i, j)]\n",
    "        for (i, j) in capacities.keys()\n",
    "    ]\n",
    "    for i in range(1, n-1):\n",
    "        constraints.append(cp.sum(flow[i, :]) - cp.sum(flow[:, i]) == 0)\n",
    "    prob = cp.Problem(objective, constraints)\n",
    "    result = prob.solve()\n",
    "    \n",
    "    return result\n",
    "x2 = [10,11,12,13,14,15,16,17,18,19]\n",
    "y_lp=[]\n",
    "\n",
    "if __name__ == '__main__':\n",
    "    for n in range(10, 20):\n",
    "        \n",
    "        G = generate_flow(n)\n",
    "        start_timelp = time.time()\n",
    "        max_flow = max_flow_lp(G)\n",
    "        end_timelp = time.time()\n",
    "        y_lp.append(end_timelp - start_timelp)\n",
    "        print(f\"n = {n}, : max_flow Linear Programming = {max_flow}\")\n",
    "   \n",
    "\n",
    "\n",
    "   \n",
    "plt.plot(x2, y_lp, color='green',label=\"LP\")\n",
    "plt.xlabel(\"Number of nodes in the graph\")\n",
    "plt.ylabel(\"Running time in seconds\")\n",
    "plt.legend()\n",
    "plt.show()\n",
    "fig, (ax1, ax2) = plt.subplots(nrows=1, ncols=2)\n",
    "ax1.plot(x1, ye)\n",
    "ax1.set_title('Edmonds-Karp')\n",
    "ax2.plot(x2, y_lp)\n",
    "ax2.set_title('Linear Programming')\n",
    "fig.suptitle('Combined plots for comparison')\n",
    "plt.show()"
   ]
  },
  {
   "cell_type": "markdown",
   "metadata": {},
   "source": [
    "# Conclusion: "
   ]
  },
  {
   "cell_type": "markdown",
   "metadata": {},
   "source": [
    "From the Comparison of both the plots regarding the run time, we can figure that Edmonds Karp algorithm is very much quicker than Linear Programming to get the Max-Flow of a Graph network."
   ]
  },
  {
   "cell_type": "code",
   "execution_count": null,
   "metadata": {},
   "outputs": [],
   "source": []
  }
 ],
 "metadata": {
  "kernelspec": {
   "display_name": "Python 3",
   "language": "python",
   "name": "python3"
  },
  "language_info": {
   "codemirror_mode": {
    "name": "ipython",
    "version": 3
   },
   "file_extension": ".py",
   "mimetype": "text/x-python",
   "name": "python",
   "nbconvert_exporter": "python",
   "pygments_lexer": "ipython3",
   "version": "3.7.6"
  },
  "toc": {
   "base_numbering": 1,
   "nav_menu": {},
   "number_sections": true,
   "sideBar": true,
   "skip_h1_title": false,
   "title_cell": "Table of Contents",
   "title_sidebar": "Contents",
   "toc_cell": false,
   "toc_position": {},
   "toc_section_display": true,
   "toc_window_display": false
  },
  "varInspector": {
   "cols": {
    "lenName": 16,
    "lenType": 16,
    "lenVar": 40
   },
   "kernels_config": {
    "python": {
     "delete_cmd_postfix": "",
     "delete_cmd_prefix": "del ",
     "library": "var_list.py",
     "varRefreshCmd": "print(var_dic_list())"
    },
    "r": {
     "delete_cmd_postfix": ") ",
     "delete_cmd_prefix": "rm(",
     "library": "var_list.r",
     "varRefreshCmd": "cat(var_dic_list()) "
    }
   },
   "types_to_exclude": [
    "module",
    "function",
    "builtin_function_or_method",
    "instance",
    "_Feature"
   ],
   "window_display": false
  }
 },
 "nbformat": 4,
 "nbformat_minor": 5
}
