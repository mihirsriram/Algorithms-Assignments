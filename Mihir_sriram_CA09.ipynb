{
 "cells": [
  {
   "cell_type": "code",
   "execution_count": 1,
   "metadata": {},
   "outputs": [],
   "source": [
    "import csv\n",
    "from PIL import Image\n",
    "\n",
    "# Load the image\n",
    "img = Image.open(r'C:\\Users\\91817\\Desktop\\Earth.png')\n",
    "\n",
    "# Get the dimensions\n",
    "width, height = img.size\n",
    "\n",
    "# Access the pixel values\n",
    "pixels = img.load()\n",
    "\n",
    "# Store the pixel values in a 2D array\n",
    "pixel_array = []\n",
    "for y in range(height):\n",
    "    row = []\n",
    "    for x in range(width):\n",
    "        row.append(pixels[x, y])\n",
    "    pixel_array.append(row)\n",
    "\n",
    "# Save the pixel values as a CSV file\n",
    "with open('pixel_values.csv', 'w', newline='') as csvfile:\n",
    "    csvwriter = csv.writer(csvfile)\n",
    "    for row in pixel_array:\n",
    "        csvwriter.writerow(row)\n"
   ]
  },
  {
   "cell_type": "markdown",
   "metadata": {},
   "source": [
    "# Separated R G B channels and implement FFT2 to achieve Colored compressed Output.jpg"
   ]
  },
  {
   "cell_type": "code",
   "execution_count": 11,
   "metadata": {},
   "outputs": [
    {
     "name": "stdout",
     "output_type": "stream",
     "text": [
      "The size of the INPUT .png image file is 145440 bytes in RAM.\n",
      "Using fft2 with threshold 0%, we have compressed the image by 81.11% on disk. And the Compressed size is 27467\n",
      "Using fft2 with threshold 2%, we have compressed the image by 81.08% on disk. And the Compressed size is 27523\n",
      "Using fft2 with threshold 3%, we have compressed the image by 77.14% on disk. And the Compressed size is 33242\n",
      "Using fft2 with threshold 4%, we have compressed the image by 67.99% on disk. And the Compressed size is 46554\n",
      "Using fft2 with threshold 6%, we have compressed the image by 60.09% on disk. And the Compressed size is 58040\n",
      "Using fft2 with threshold 8%, we have compressed the image by 57.21% on disk. And the Compressed size is 62238\n",
      "Using fft2 with threshold 10%, we have compressed the image by 55.77% on disk. And the Compressed size is 64332\n",
      "Using fft2 with threshold 12%, we have compressed the image by 55.03% on disk. And the Compressed size is 65403\n",
      "Using fft2 with threshold 14%, we have compressed the image by 54.46% on disk. And the Compressed size is 66237\n",
      "Using fft2 with threshold 15%, we have compressed the image by 54.21% on disk. And the Compressed size is 66592\n",
      "Using fft2 with threshold 20%, we have compressed the image by 53.54% on disk. And the Compressed size is 67565\n"
     ]
    },
    {
     "data": {
      "image/png": "[encoded data removed]",
      "text/plain": [
       "<Figure size 432x288 with 1 Axes>"
      ]
     },
     "metadata": {
      "needs_background": "light"
     },
     "output_type": "display_data"
    }
   ],
   "source": [
    "import csv\n",
    "import numpy as np\n",
    "from scipy.fftpack import fft2, ifft2\n",
    "from PIL import Image\n",
    "from io import BytesIO\n",
    "import os\n",
    "import matplotlib.pyplot as plt\n",
    "\n",
    "\n",
    "# Load the pixel values from the CSV file\n",
    "pixel_array = []\n",
    "with open('pixel_values.csv', 'r') as csvfile:\n",
    "    csvreader = csv.reader(csvfile)\n",
    "    for row in csvreader:\n",
    "        pixel_row = []\n",
    "        for pixel_str in row:\n",
    "            r, g, b, a = [int(x) for x in pixel_str.strip('()').split(', ')]\n",
    "            pixel_row.append((r, g, b, a))\n",
    "        pixel_array.append(pixel_row)\n",
    "\n",
    "\n",
    "# Convert the pixel values to a NumPy array\n",
    "pixel_array = np.array(pixel_array)\n",
    "\n",
    "# Separate the pixel array into red, green, and blue color channels\n",
    "r_channel = pixel_array[:,:,0]\n",
    "g_channel = pixel_array[:,:,1]\n",
    "b_channel = pixel_array[:,:,2]\n",
    "\n",
    "# Compute the 2D FFT of each color channel\n",
    "r_fft_array = fft2(r_channel)\n",
    "g_fft_array = fft2(g_channel)\n",
    "b_fft_array = fft2(b_channel)\n",
    "\n",
    "file_path = r'C:\\Users\\91817\\Desktop\\Earth.png'\n",
    "file_size = os.path.getsize(file_path)\n",
    "\n",
    "print(f\"The size of the INPUT .png image file is {file_size} bytes in RAM.\")\n",
    "\n",
    "# Experiment with different thresholds for removing small RGB values\n",
    "thresholds = [0,2,3,4,6,8, 10, 12, 14, 15, 20]\n",
    "compression_ratios = []\n",
    "for t in thresholds:\n",
    "    # Remove points with small r-g-b values from each color channel\n",
    "    r_fft_abs = np.abs(r_fft_array)\n",
    "    r_fft_threshold = np.percentile(r_fft_abs, t)\n",
    "    r_fft_mask = r_fft_abs > r_fft_threshold\n",
    "    r_fft_array_masked = r_fft_array * r_fft_mask\n",
    "\n",
    "    g_fft_abs = np.abs(g_fft_array)\n",
    "    g_fft_threshold = np.percentile(g_fft_abs, t)\n",
    "    g_fft_mask = g_fft_abs > g_fft_threshold\n",
    "    g_fft_array_masked = g_fft_array * g_fft_mask\n",
    "\n",
    "    b_fft_abs = np.abs(b_fft_array)\n",
    "    b_fft_threshold = np.percentile(b_fft_abs, t)\n",
    "    b_fft_mask = b_fft_abs > b_fft_threshold\n",
    "    b_fft_array_masked = b_fft_array * b_fft_mask\n",
    "\n",
    "    # Compute the inverse FFT to get each color channel back\n",
    "    r_inv_fft_array = ifft2(r_fft_array_masked).real\n",
    "    g_inv_fft_array = ifft2(g_fft_array_masked).real\n",
    "    b_inv_fft_array = ifft2(b_fft_array_masked).real\n",
    "\n",
    "    # Combine the color channels back into a single array and convert to an image\n",
    "    inv_fft_array = np.dstack((r_inv_fft_array, g_inv_fft_array, b_inv_fft_array))\n",
    "    inv_fft_img = Image.fromarray(inv_fft_array.astype('uint8')).convert('RGB')\n",
    "    inv_fft_img.save(f'output_threshold_{t}.jpg',quality=90)\n",
    "\n",
    "    # Calculate the size of the compressed image on disk\n",
    "    with open(f'output_threshold_{t}.jpg', 'rb') as f:\n",
    "        compressed_size = len(f.read())\n",
    "\n",
    "    compression_ratio = 1 - compressed_size / file_size\n",
    "    compression_ratios.append(compression_ratio)\n",
    "\n",
    "    print(f\"Using fft2 with threshold {t}%, we have compressed the image by {compression_ratio:.2%} on disk. And the Compressed size is\",compressed_size)\n",
    "# Plot the compression ratios against the thresholds\n",
    "plt.plot(thresholds, compression_ratios)\n",
    "\n",
    "# Add labels and title\n",
    "plt.xlabel('Threshold')\n",
    "plt.ylabel('Compression Ratio')\n",
    "plt.title('Compression Ratio vs. Threshold')\n",
    "\n",
    "# Show the plot\n",
    "plt.show()\n"
   ]
  },
  {
   "cell_type": "markdown",
   "metadata": {},
   "source": [
    "In this experiment, we separate the r,g,b channels first and apply fft and then merge it to achieve a compressed .jpeg file.\n",
    "Based on the size of the output size of the compressed images with increasing thresholds, we can figure that 2% threshold is the maximum threshold to get a compressed .jpg file without losing clarity or details. After this threshold, the image seems to be losing a lot of the details and clarity."
   ]
  },
  {
   "cell_type": "markdown",
   "metadata": {},
   "source": [
    "# Averaged rgb values in a single cell and applied fft2 to get greyscale compressed output .jpeg files"
   ]
  },
  {
   "cell_type": "code",
   "execution_count": 12,
   "metadata": {},
   "outputs": [
    {
     "name": "stdout",
     "output_type": "stream",
     "text": [
      "The size of the INPUT .png image file is 145440 bytes in RAM.\n",
      "Using fft2 with threshold 0%, we have compressed the image by 90.31% on disk. And the Compressed size is 14095\n",
      "Using fft2 with threshold 5%, we have compressed the image by 90.31% on disk. And the Compressed size is 14095\n",
      "Using fft2 with threshold 10%, we have compressed the image by 90.31% on disk. And the Compressed size is 14095\n",
      "Using fft2 with threshold 20%, we have compressed the image by 90.31% on disk. And the Compressed size is 14095\n",
      "Using fft2 with threshold 30%, we have compressed the image by 90.31% on disk. And the Compressed size is 14095\n",
      "Using fft2 with threshold 40%, we have compressed the image by 90.31% on disk. And the Compressed size is 14095\n",
      "Using fft2 with threshold 50%, we have compressed the image by 90.31% on disk. And the Compressed size is 14095\n",
      "Using fft2 with threshold 60%, we have compressed the image by 90.31% on disk. And the Compressed size is 14095\n",
      "Using fft2 with threshold 70%, we have compressed the image by 90.31% on disk. And the Compressed size is 14095\n",
      "Using fft2 with threshold 80%, we have compressed the image by 78.59% on disk. And the Compressed size is 31139\n",
      "Using fft2 with threshold 90%, we have compressed the image by 78.85% on disk. And the Compressed size is 30766\n",
      "Using fft2 with threshold 95%, we have compressed the image by 80.56% on disk. And the Compressed size is 28267\n"
     ]
    },
    {
     "data": {
      "image/png": "[encoded data removed]",
      "text/plain": [
       "<Figure size 432x288 with 1 Axes>"
      ]
     },
     "metadata": {
      "needs_background": "light"
     },
     "output_type": "display_data"
    }
   ],
   "source": [
    "import csv\n",
    "import numpy as np\n",
    "from scipy.fftpack import fft2, ifft2\n",
    "from PIL import Image\n",
    "\n",
    "# Load the pixel values from the CSV file\n",
    "pixel_array = []\n",
    "with open('pixel_values.csv', 'r') as csvfile:\n",
    "    csvreader = csv.reader(csvfile)\n",
    "    for row in csvreader:\n",
    "        pixel_row = []\n",
    "        for pixel_str in row:\n",
    "            r, g, b, a = [int(x) for x in pixel_str.strip('()').split(', ')]\n",
    "            pixel_avg = (int((r + g + b) / 3),) * 3\n",
    "            pixel_row.append(pixel_avg)\n",
    "        pixel_array.append(pixel_row)\n",
    "# Convert the pixel values to a NumPy array\n",
    "pixel_array = np.array(pixel_array)\n",
    "\n",
    "# Compute the 2D FFT of the pixel values\n",
    "fft_array = fft2(pixel_array)\n",
    "\n",
    "file_path = r'C:\\Users\\91817\\Desktop\\Earth.png'\n",
    "file_size = os.path.getsize(file_path)\n",
    "\n",
    "print(f\"The size of the INPUT .png image file is {file_size} bytes in RAM.\")\n",
    "\n",
    "# Experiment with different thresholds for removing small RGB values\n",
    "thresholds = [0, 5, 10, 20, 30, 40, 50, 60, 70, 80, 90, 95]\n",
    "compression_ratios = []\n",
    "for t in thresholds:\n",
    "    # Remove points with small r-g-b values\n",
    "    fft_abs = np.abs(fft_array)\n",
    "    fft_threshold = np.percentile(fft_abs, t)\n",
    "    fft_mask = fft_abs > fft_threshold\n",
    "    fft_array_masked = fft_array * fft_mask\n",
    "\n",
    "    # Compute the inverse FFT to get the image back\n",
    "    inv_fft_array = ifft2(fft_array_masked).real\n",
    "\n",
    "    # Convert the NumPy array to an image and save it\n",
    "    inv_fft_img = Image.fromarray(inv_fft_array.astype('uint8')).convert('RGB')\n",
    "    inv_fft_img.save(f'output_grey_threshold_{t}.jpg', optimize=True)\n",
    "\n",
    "    # Calculate the size of the compressed image on disk\n",
    "    with open(f'output_grey_threshold_{t}.jpg', 'rb') as f:\n",
    "        compressed_size = len(f.read())\n",
    "\n",
    "    compression_ratio = 1 - compressed_size / file_size\n",
    "    compression_ratios.append(compression_ratio)\n",
    "\n",
    "    print(f\"Using fft2 with threshold {t}%, we have compressed the image by {compression_ratio:.2%} on disk. And the Compressed size is\",compressed_size)\n",
    " # Plot the compression ratios against the thresholds\n",
    "plt.plot(thresholds, compression_ratios)\n",
    "\n",
    "# Add labels and title\n",
    "plt.xlabel('Threshold')\n",
    "plt.ylabel('Compression Ratio')\n",
    "plt.title('Compression Ratio vs. Threshold')\n",
    "\n",
    "# Show the plot\n",
    "plt.show()\n"
   ]
  },
  {
   "cell_type": "markdown",
   "metadata": {},
   "source": [
    "For this implementation, we average out rgb values to a single cell in every row and apply fft2. This results in a greyscale image. \n",
    "From the output we can see that the compression ratio decreases from 80% threshold which means that only few values are being removed, and also at this level the compressed image is losing clarity and quality."
   ]
  },
  {
   "cell_type": "code",
   "execution_count": null,
   "metadata": {},
   "outputs": [],
   "source": []
  }
 ],
 "metadata": {
  "kernelspec": {
   "display_name": "Python 3",
   "language": "python",
   "name": "python3"
  },
  "language_info": {
   "codemirror_mode": {
    "name": "ipython",
    "version": 3
   },
   "file_extension": ".py",
   "mimetype": "text/x-python",
   "name": "python",
   "nbconvert_exporter": "python",
   "pygments_lexer": "ipython3",
   "version": "3.7.6"
  }
 },
 "nbformat": 4,
 "nbformat_minor": 4
}
