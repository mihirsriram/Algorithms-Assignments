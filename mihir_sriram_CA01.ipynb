{
 "cells": [
  {
   "cell_type": "code",
   "execution_count": 1,
   "metadata": {},
   "outputs": [],
   "source": [
    "def maxCoins(m, n, map):\n",
    "    \n",
    "    dp = [[0 for j in range(n)] for i in range(m)]\n",
    "    for i in range(m):\n",
    "        for j in range(n):\n",
    "            if i==0:\n",
    "                if j==0:\n",
    "                    dp[i][j]= map[i][j] #initial value\n",
    "                    continue\n",
    "                else:\n",
    "                    dp[i][j]= map[i][j]+dp[i][j-1] #add west\n",
    "                    continue\n",
    "\n",
    "            elif j==0:\n",
    "                dp[i][j]= map[i][j]+ max(dp[i-1][j],dp[i-1][j+1]) #check max of north and north east\n",
    "            elif j==n-1:\n",
    "                dp[i][j]= map[i][j]+ max(dp[i-1][j],dp[i][j-1])\n",
    "            else:\n",
    "                dp[i][j]= map[i][j]+ max(dp[i-1][j],dp[i-1][j+1],dp[i][j-1])#check max of north and north east and west\n",
    "            \n",
    "        \n",
    "    print(dp)            \n",
    "    return dp[m-1][0]\n",
    "\n",
    "\n",
    "                \n",
    "                \n",
    "    \n"
   ]
  },
  {
   "cell_type": "code",
   "execution_count": 2,
   "metadata": {},
   "outputs": [
    {
     "name": "stdout",
     "output_type": "stream",
     "text": [
      "[[1, 2, 2, 3, 3, 3, 3, 4, 5, 5, 6, 7, 8, 8, 8, 9], [2, 3, 4, 4, 5, 5, 6, 6, 7, 8, 8, 8, 9, 9, 10, 10], [4, 4, 5, 5, 6, 6, 7, 7, 9, 9, 10, 10, 11, 11, 12, 12], [4, 6, 6, 7, 7, 8, 8, 10, 10, 11, 11, 12, 12, 13, 13, 14], [7, 8, 9, 9, 9, 9, 11, 12, 13, 13, 13, 13, 14, 15, 16, 16], [8, 10, 10, 10, 10, 12, 13, 14, 14, 15, 16, 17, 17, 17, 17, 18], [10, 10, 11, 12, 12, 13, 15, 16, 16, 16, 18, 19, 19, 19, 20, 21], [11, 12, 12, 12, 14, 16, 16, 16, 17, 19, 19, 19, 20, 21, 21, 21]]\n",
      "Maximum number of coins that can be collected: 11\n"
     ]
    }
   ],
   "source": [
    "m, n = 8, 16\n",
    "map = [[1, 1, 0, 1, 0, 0, 0, 1, 1, 0, 1, 1, 1, 0, 0, 1],\n",
    "[0, 1, 1, 0, 1, 0, 1, 0, 1, 1, 0, 0, 1, 0, 1, 0],\n",
    "[1, 0, 1, 0, 1, 0, 1, 0, 1, 0, 1, 0, 1, 0, 1, 0],\n",
    "[0, 1, 0, 1, 0, 1, 0, 1, 0, 1, 0, 1, 0, 1, 0, 1],\n",
    "[1, 1, 1, 0, 0, 0, 1, 1, 1, 0, 0, 0, 1, 1, 1, 0],\n",
    "[0, 1, 0, 0, 0, 1, 1, 1, 0, 1, 1, 1, 0, 0, 0, 1],\n",
    "[0, 0, 1, 1, 0, 0, 1, 1, 0, 0, 1, 1, 0, 0, 1, 1],\n",
    "[1, 1, 0, 0, 1, 1, 0, 0, 1, 1, 0, 0, 1, 1, 0, 0]]\n",
    "print(\"Maximum number of coins that can be collected:\", maxCoins(m, n, map))\n"
   ]
  },
  {
   "cell_type": "code",
   "execution_count": 3,
   "metadata": {},
   "outputs": [
    {
     "name": "stdout",
     "output_type": "stream",
     "text": [
      "[[0, 1, 1], [1, 2, 3], [3, 3, 4]]\n",
      "Maximum number of coins that can be collected: 3\n"
     ]
    }
   ],
   "source": [
    "m, n = 3, 3\n",
    "map = [[0, 1, 0],\n",
    "[0, 1, 1],\n",
    "[1, 0, 1,]]\n",
    "print(\"Maximum number of coins that can be collected:\", maxCoins(m, n, map))\n"
   ]
  },
  {
   "cell_type": "code",
   "execution_count": 5,
   "metadata": {},
   "outputs": [
    {
     "name": "stdout",
     "output_type": "stream",
     "text": [
      "[[0, 1, 1, 2], [1, 2, 3, 3], [3, 3, 4, 4], [3, 5, 6, 6], [6, 7, 8, 8]]\n",
      "Maximum number of coins that can be collected: 6\n"
     ]
    }
   ],
   "source": [
    "m, n = 5, 4 \n",
    "map = [[0, 1, 0, 1],\n",
    "[0, 1, 1, 0],\n",
    "[1, 0, 1, 0],\n",
    "[0, 1, 1, 0],\n",
    "[1,1,1,0]]\n",
    "print(\"Maximum number of coins that can be collected:\", maxCoins(m, n, map))"
   ]
  },
  {
   "cell_type": "code",
   "execution_count": null,
   "metadata": {},
   "outputs": [],
   "source": []
  }
 ],
 "metadata": {
  "kernelspec": {
   "display_name": "Python 3",
   "language": "python",
   "name": "python3"
  },
  "language_info": {
   "codemirror_mode": {
    "name": "ipython",
    "version": 3
   },
   "file_extension": ".py",
   "mimetype": "text/x-python",
   "name": "python",
   "nbconvert_exporter": "python",
   "pygments_lexer": "ipython3",
   "version": "3.7.6"
  }
 },
 "nbformat": 4,
 "nbformat_minor": 5
}
